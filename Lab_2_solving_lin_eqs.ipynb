{
 "cells": [
  {
   "cell_type": "markdown",
   "id": "c9392349",
   "metadata": {},
   "source": [
    "Representing Systems of Equations as Matrices"
   ]
  },
  {
   "cell_type": "markdown",
   "id": "2cfe53c5",
   "metadata": {},
   "source": [
    "1.1 - System of Linear Equations\n",
    "A system of linear equations (or linear system) is a collection of one or more linear equations involving the same variables. For example:\n",
    "\n",
    "−𝑥1+3𝑥2=7 ,\n",
    " 3𝑥1+2𝑥2=1,"
   ]
  },
  {
   "cell_type": "code",
   "execution_count": 1,
   "id": "6a7469aa",
   "metadata": {},
   "outputs": [],
   "source": [
    "import numpy as np\n",
    "import matplotlib.pyplot as plt"
   ]
  },
  {
   "cell_type": "code",
   "execution_count": 6,
   "id": "5d07dc9c",
   "metadata": {},
   "outputs": [],
   "source": [
    "A1 = np.array(\n",
    "    [\n",
    "    [-1 , 3],\n",
    "    [3 , 2] \n",
    "    ],\n",
    "    dtype = np.dtype(float)\n",
    "\n",
    ")\n",
    "\n",
    "b1 = np.array([7 ,1] , dtype = np.dtype(float))\n",
    "\n"
   ]
  },
  {
   "cell_type": "code",
   "execution_count": 7,
   "id": "bc12af10",
   "metadata": {},
   "outputs": [
    {
     "name": "stdout",
     "output_type": "stream",
     "text": [
      "Matrix A : \n",
      " [[-1.  3.]\n",
      " [ 3.  2.]]\n",
      "b is : [7. 1.]\n"
     ]
    }
   ],
   "source": [
    "print(f\"Matrix A : \\n {A1}\")\n",
    "print(f\"b is : {b1}\")"
   ]
  },
  {
   "cell_type": "code",
   "execution_count": null,
   "id": "24c8566f",
   "metadata": {},
   "outputs": [
    {
     "name": "stdout",
     "output_type": "stream",
     "text": [
      "(2, 2)\n",
      "(2,)\n"
     ]
    }
   ],
   "source": [
    "# Shape of A1 and b1\n",
    "print(np.shape(A1))\n",
    "print(np.shape(b1))"
   ]
  },
  {
   "cell_type": "code",
   "execution_count": null,
   "id": "2fd90ea7",
   "metadata": {},
   "outputs": [
    {
     "name": "stdout",
     "output_type": "stream",
     "text": [
      "[-1.  2.]\n"
     ]
    }
   ],
   "source": [
    "#Solving A1 and b1\n",
    "system_A1 = np.linalg.solve(A1, b1)\n",
    "print(system_A1)"
   ]
  },
  {
   "cell_type": "code",
   "execution_count": 10,
   "id": "1785cff9",
   "metadata": {},
   "outputs": [
    {
     "name": "stdout",
     "output_type": "stream",
     "text": [
      "-11.000000000000002\n"
     ]
    }
   ],
   "source": [
    "A1_det = np.linalg.det(A1)\n",
    "print(A1_det)"
   ]
  },
  {
   "cell_type": "markdown",
   "id": "56801104",
   "metadata": {},
   "source": [
    "# Representation of the system as a matrix\n",
    "Now we have to stack these metrices, using hstack() method.\n",
    "\n",
    "We have to reshape b using b1.reshape(-1 , 1)\n",
    "-1 : automatically figure out the number of elements in matrix\n",
    "1 : There should be exactly one column\n",
    "\n",
    "It reshape the b from [7 , 1] to [[7], [1]] two rows and 1 column."
   ]
  },
  {
   "cell_type": "code",
   "execution_count": 12,
   "id": "51726570",
   "metadata": {},
   "outputs": [
    {
     "name": "stdout",
     "output_type": "stream",
     "text": [
      "[[-1.  3.  7.]\n",
      " [ 3.  2.  1.]]\n"
     ]
    }
   ],
   "source": [
    "system_A1_matrix = np.hstack((A1 , b1.reshape(-1 , 1)))\n",
    "print(system_A1_matrix)"
   ]
  },
  {
   "cell_type": "markdown",
   "id": "77f8d050",
   "metadata": {},
   "source": [
    "3 - System of Linear Equations with No Solutions\n",
    "Given another system of linear equations:\n",
    "\n",
    "−𝑥1+3𝑥2=7,\n",
    "3𝑥1−9𝑥2=1,"
   ]
  },
  {
   "cell_type": "code",
   "execution_count": 24,
   "id": "0765c4ab",
   "metadata": {},
   "outputs": [
    {
     "name": "stdout",
     "output_type": "stream",
     "text": [
      "Matrix A2 : [[-1.  3.]\n",
      " [ 3. -9.]]\n",
      "Matrix b2 : [7. 1.]\n"
     ]
    }
   ],
   "source": [
    "A2 = np.array([\n",
    "    [-1 , 3],\n",
    "    [3 , -9]\n",
    "    ],\n",
    "    dtype = np.dtype(float)\n",
    "\n",
    ")\n",
    "\n",
    "b2 = np.array([7 , 1] , dtype = np.dtype(float))\n",
    "\n",
    "print(f\"Matrix A2 : {A2}\")\n",
    "print(f\"Matrix b2 : {b2}\")"
   ]
  },
  {
   "cell_type": "code",
   "execution_count": 25,
   "id": "64ff78ea",
   "metadata": {},
   "outputs": [
    {
     "name": "stdout",
     "output_type": "stream",
     "text": [
      "(2, 2)\n",
      "(2,)\n"
     ]
    }
   ],
   "source": [
    "print(A2.shape)\n",
    "print(b2.shape)"
   ]
  },
  {
   "cell_type": "code",
   "execution_count": 27,
   "id": "8ebe2c79",
   "metadata": {},
   "outputs": [
    {
     "name": "stdout",
     "output_type": "stream",
     "text": [
      "Singular matrix\n"
     ]
    }
   ],
   "source": [
    "try:\n",
    "    system_A2 = np.linalg.solve(A2 , b2)\n",
    "    print(system_A2)\n",
    "except np.linalg.LinAlgError as err:\n",
    "    print(err)\n"
   ]
  },
  {
   "cell_type": "code",
   "execution_count": 28,
   "id": "a476f96f",
   "metadata": {},
   "outputs": [
    {
     "name": "stdout",
     "output_type": "stream",
     "text": [
      "[[-1.  3.  7.]\n",
      " [ 3. -9.  1.]]\n"
     ]
    }
   ],
   "source": [
    "system_A2_matrix = np.hstack((A2 , b2.reshape(-1 , 1)))\n",
    "print(system_A2_matrix)"
   ]
  },
  {
   "cell_type": "markdown",
   "id": "5864621a",
   "metadata": {},
   "source": [
    "4 - System of Linear Equations with an Infinite Number of Solutions\n",
    "By changing the free coefficients of the system  (2)\n",
    " , you can bring it to consistency:\n",
    "\n",
    "−𝑥1+3𝑥2=7,\n",
    "3𝑥1−9𝑥2=−21,"
   ]
  },
  {
   "cell_type": "code",
   "execution_count": 18,
   "id": "366507ee",
   "metadata": {},
   "outputs": [],
   "source": [
    "A3 = np.array([\n",
    "    [-1 , 3],\n",
    "    [3 , -9]\n",
    "    ],\n",
    "    dtype = np.dtype(float)\n",
    "\n",
    ")\n",
    "\n",
    "b3 = np.array([7 , 21], dtype = np.dtype(float))"
   ]
  },
  {
   "cell_type": "code",
   "execution_count": 23,
   "id": "0d605762",
   "metadata": {},
   "outputs": [
    {
     "name": "stdout",
     "output_type": "stream",
     "text": [
      "Singular matrix\n"
     ]
    }
   ],
   "source": [
    "try:\n",
    "    system_A3 = np.linalg.solve(A3, b3)\n",
    "    print(system_A3)\n",
    "except np.linalg.LinAlgError as err:\n",
    "    print(err)"
   ]
  },
  {
   "cell_type": "markdown",
   "id": "41859ed2",
   "metadata": {},
   "source": [
    "Creating matric by using hstack()"
   ]
  },
  {
   "cell_type": "code",
   "execution_count": 29,
   "id": "b4950d5c",
   "metadata": {},
   "outputs": [
    {
     "name": "stdout",
     "output_type": "stream",
     "text": [
      "[[-1.  3.  7.]\n",
      " [ 3. -9. 21.]]\n"
     ]
    }
   ],
   "source": [
    "system_A3_matrix = np.hstack((A3 , b3.reshape(-1 , 1)))\n",
    "print(system_A3_matrix)"
   ]
  }
 ],
 "metadata": {
  "kernelspec": {
   "display_name": "Python 3",
   "language": "python",
   "name": "python3"
  },
  "language_info": {
   "codemirror_mode": {
    "name": "ipython",
    "version": 3
   },
   "file_extension": ".py",
   "mimetype": "text/x-python",
   "name": "python",
   "nbconvert_exporter": "python",
   "pygments_lexer": "ipython3",
   "version": "3.13.3"
  }
 },
 "nbformat": 4,
 "nbformat_minor": 5
}
